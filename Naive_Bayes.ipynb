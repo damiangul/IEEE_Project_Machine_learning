{
 "cells": [
  {
   "cell_type": "markdown",
   "metadata": {},
   "source": [
    "# Naive Bayes Classifier \n",
    "# Data preparation\n",
    "## Reading .csv file into Data Frame"
   ]
  },
  {
   "cell_type": "code",
   "execution_count": null,
   "metadata": {},
   "outputs": [],
   "source": [
    "from sklearn import preprocessing, metrics\n",
    "from sklearn.model_selection import train_test_split,KFold, cross_val_score,cross_val_predict,RandomizedSearchCV,GridSearchCV\n",
    "from sklearn.neighbors import KNeighborsClassifier\n",
    "from sklearn.naive_bayes import GaussianNB\n",
    "from sklearn.ensemble import RandomForestClassifier, RandomForestRegressor\n",
    "from sklearn.tree import export_graphviz\n",
    "from statistics import mean\n",
    "from subprocess import call\n",
    "from IPython.display import Image\n",
    "\n",
    "import matplotlib.pyplot as plt\n",
    "import seaborn as sns\n",
    "import numpy as np\n",
    "import pandas as pd\n",
    "import time\n",
    "\n",
    "pd.options.mode.chained_assignment = None\n",
    "\n",
    "col_names = ['Time', 'Source', 'Destination', 'Protocol', 'Length', 'Info','src_port','dst_port']\n",
    "data_frame = pd.read_csv(\"Samples/smallTraffic-_backup.csv\",encoding = \"ISO-8859-1\", header=0, names=col_names)\n",
    "\n",
    "data_frame.head(20)"
   ]
  },
  {
   "cell_type": "markdown",
   "metadata": {},
   "source": [
    "# Data cleaning\n",
    "## Set source port and destination port of ICMP to (-1) becouse of NaN occurance"
   ]
  },
  {
   "cell_type": "code",
   "execution_count": 5,
   "metadata": {},
   "outputs": [
    {
     "data": {
      "text/html": [
       "<div>\n",
       "<style scoped>\n",
       "    .dataframe tbody tr th:only-of-type {\n",
       "        vertical-align: middle;\n",
       "    }\n",
       "\n",
       "    .dataframe tbody tr th {\n",
       "        vertical-align: top;\n",
       "    }\n",
       "\n",
       "    .dataframe thead th {\n",
       "        text-align: right;\n",
       "    }\n",
       "</style>\n",
       "<table border=\"1\" class=\"dataframe\">\n",
       "  <thead>\n",
       "    <tr style=\"text-align: right;\">\n",
       "      <th></th>\n",
       "      <th>Time</th>\n",
       "      <th>Source</th>\n",
       "      <th>Destination</th>\n",
       "      <th>Protocol</th>\n",
       "      <th>Length</th>\n",
       "      <th>Info</th>\n",
       "      <th>src_port</th>\n",
       "      <th>dst_port</th>\n",
       "    </tr>\n",
       "  </thead>\n",
       "  <tbody>\n",
       "    <tr>\n",
       "      <th>5960</th>\n",
       "      <td>116.676994</td>\n",
       "      <td>10.0.2.2</td>\n",
       "      <td>10.0.2.15</td>\n",
       "      <td>ICMP</td>\n",
       "      <td>202</td>\n",
       "      <td>Time-to-live exceeded (Time to live exceeded i...</td>\n",
       "      <td>-1.0</td>\n",
       "      <td>-1.0</td>\n",
       "    </tr>\n",
       "    <tr>\n",
       "      <th>5961</th>\n",
       "      <td>116.677060</td>\n",
       "      <td>10.0.2.2</td>\n",
       "      <td>10.0.2.15</td>\n",
       "      <td>ICMP</td>\n",
       "      <td>203</td>\n",
       "      <td>Time-to-live exceeded (Time to live exceeded i...</td>\n",
       "      <td>-1.0</td>\n",
       "      <td>-1.0</td>\n",
       "    </tr>\n",
       "    <tr>\n",
       "      <th>6035</th>\n",
       "      <td>117.265243</td>\n",
       "      <td>10.0.2.2</td>\n",
       "      <td>10.0.2.15</td>\n",
       "      <td>ICMP</td>\n",
       "      <td>202</td>\n",
       "      <td>Time-to-live exceeded (Time to live exceeded i...</td>\n",
       "      <td>-1.0</td>\n",
       "      <td>-1.0</td>\n",
       "    </tr>\n",
       "    <tr>\n",
       "      <th>6036</th>\n",
       "      <td>117.265322</td>\n",
       "      <td>10.0.2.2</td>\n",
       "      <td>10.0.2.15</td>\n",
       "      <td>ICMP</td>\n",
       "      <td>203</td>\n",
       "      <td>Time-to-live exceeded (Time to live exceeded i...</td>\n",
       "      <td>-1.0</td>\n",
       "      <td>-1.0</td>\n",
       "    </tr>\n",
       "    <tr>\n",
       "      <th>6133</th>\n",
       "      <td>117.812397</td>\n",
       "      <td>10.0.2.2</td>\n",
       "      <td>10.0.2.15</td>\n",
       "      <td>ICMP</td>\n",
       "      <td>202</td>\n",
       "      <td>Time-to-live exceeded (Time to live exceeded i...</td>\n",
       "      <td>-1.0</td>\n",
       "      <td>-1.0</td>\n",
       "    </tr>\n",
       "    <tr>\n",
       "      <th>6134</th>\n",
       "      <td>117.812489</td>\n",
       "      <td>10.0.2.2</td>\n",
       "      <td>10.0.2.15</td>\n",
       "      <td>ICMP</td>\n",
       "      <td>203</td>\n",
       "      <td>Time-to-live exceeded (Time to live exceeded i...</td>\n",
       "      <td>-1.0</td>\n",
       "      <td>-1.0</td>\n",
       "    </tr>\n",
       "    <tr>\n",
       "      <th>6142</th>\n",
       "      <td>118.248598</td>\n",
       "      <td>10.0.2.2</td>\n",
       "      <td>10.0.2.15</td>\n",
       "      <td>ICMP</td>\n",
       "      <td>202</td>\n",
       "      <td>Time-to-live exceeded (Time to live exceeded i...</td>\n",
       "      <td>-1.0</td>\n",
       "      <td>-1.0</td>\n",
       "    </tr>\n",
       "    <tr>\n",
       "      <th>6143</th>\n",
       "      <td>118.248695</td>\n",
       "      <td>10.0.2.2</td>\n",
       "      <td>10.0.2.15</td>\n",
       "      <td>ICMP</td>\n",
       "      <td>203</td>\n",
       "      <td>Time-to-live exceeded (Time to live exceeded i...</td>\n",
       "      <td>-1.0</td>\n",
       "      <td>-1.0</td>\n",
       "    </tr>\n",
       "    <tr>\n",
       "      <th>6164</th>\n",
       "      <td>118.702913</td>\n",
       "      <td>10.0.2.2</td>\n",
       "      <td>10.0.2.15</td>\n",
       "      <td>ICMP</td>\n",
       "      <td>202</td>\n",
       "      <td>Time-to-live exceeded (Time to live exceeded i...</td>\n",
       "      <td>-1.0</td>\n",
       "      <td>-1.0</td>\n",
       "    </tr>\n",
       "    <tr>\n",
       "      <th>6165</th>\n",
       "      <td>118.702988</td>\n",
       "      <td>10.0.2.2</td>\n",
       "      <td>10.0.2.15</td>\n",
       "      <td>ICMP</td>\n",
       "      <td>203</td>\n",
       "      <td>Time-to-live exceeded (Time to live exceeded i...</td>\n",
       "      <td>-1.0</td>\n",
       "      <td>-1.0</td>\n",
       "    </tr>\n",
       "  </tbody>\n",
       "</table>\n",
       "</div>"
      ],
      "text/plain": [
       "            Time    Source Destination Protocol  Length  \\\n",
       "5960  116.676994  10.0.2.2   10.0.2.15     ICMP     202   \n",
       "5961  116.677060  10.0.2.2   10.0.2.15     ICMP     203   \n",
       "6035  117.265243  10.0.2.2   10.0.2.15     ICMP     202   \n",
       "6036  117.265322  10.0.2.2   10.0.2.15     ICMP     203   \n",
       "6133  117.812397  10.0.2.2   10.0.2.15     ICMP     202   \n",
       "6134  117.812489  10.0.2.2   10.0.2.15     ICMP     203   \n",
       "6142  118.248598  10.0.2.2   10.0.2.15     ICMP     202   \n",
       "6143  118.248695  10.0.2.2   10.0.2.15     ICMP     203   \n",
       "6164  118.702913  10.0.2.2   10.0.2.15     ICMP     202   \n",
       "6165  118.702988  10.0.2.2   10.0.2.15     ICMP     203   \n",
       "\n",
       "                                                   Info  src_port  dst_port  \n",
       "5960  Time-to-live exceeded (Time to live exceeded i...      -1.0      -1.0  \n",
       "5961  Time-to-live exceeded (Time to live exceeded i...      -1.0      -1.0  \n",
       "6035  Time-to-live exceeded (Time to live exceeded i...      -1.0      -1.0  \n",
       "6036  Time-to-live exceeded (Time to live exceeded i...      -1.0      -1.0  \n",
       "6133  Time-to-live exceeded (Time to live exceeded i...      -1.0      -1.0  \n",
       "6134  Time-to-live exceeded (Time to live exceeded i...      -1.0      -1.0  \n",
       "6142  Time-to-live exceeded (Time to live exceeded i...      -1.0      -1.0  \n",
       "6143  Time-to-live exceeded (Time to live exceeded i...      -1.0      -1.0  \n",
       "6164  Time-to-live exceeded (Time to live exceeded i...      -1.0      -1.0  \n",
       "6165  Time-to-live exceeded (Time to live exceeded i...      -1.0      -1.0  "
      ]
     },
     "execution_count": 5,
     "metadata": {},
     "output_type": "execute_result"
    }
   ],
   "source": [
    "icmp = ['ICMP']\n",
    "temp_df = data_frame['Protocol'].copy(deep=True)\n",
    "data_frame.src_port[temp_df.isin(icmp)] = -1 #0\n",
    "data_frame.dst_port[temp_df.isin(icmp)] = -1 #0\n",
    "\n",
    "data_frame.loc[(data_frame['src_port'] == -1) & (data_frame['dst_port'] == -1)].head(10)"
   ]
  },
  {
   "cell_type": "markdown",
   "metadata": {},
   "source": [
    "# Each ICMP packet has been succesfully changed"
   ]
  },
  {
   "cell_type": "code",
   "execution_count": 6,
   "metadata": {},
   "outputs": [
    {
     "data": {
      "text/html": [
       "<div>\n",
       "<style scoped>\n",
       "    .dataframe tbody tr th:only-of-type {\n",
       "        vertical-align: middle;\n",
       "    }\n",
       "\n",
       "    .dataframe tbody tr th {\n",
       "        vertical-align: top;\n",
       "    }\n",
       "\n",
       "    .dataframe thead th {\n",
       "        text-align: right;\n",
       "    }\n",
       "</style>\n",
       "<table border=\"1\" class=\"dataframe\">\n",
       "  <thead>\n",
       "    <tr style=\"text-align: right;\">\n",
       "      <th></th>\n",
       "      <th>Time</th>\n",
       "      <th>Source</th>\n",
       "      <th>Destination</th>\n",
       "      <th>Protocol</th>\n",
       "      <th>Length</th>\n",
       "      <th>Info</th>\n",
       "      <th>src_port</th>\n",
       "      <th>dst_port</th>\n",
       "    </tr>\n",
       "  </thead>\n",
       "  <tbody>\n",
       "  </tbody>\n",
       "</table>\n",
       "</div>"
      ],
      "text/plain": [
       "Empty DataFrame\n",
       "Columns: [Time, Source, Destination, Protocol, Length, Info, src_port, dst_port]\n",
       "Index: []"
      ]
     },
     "execution_count": 6,
     "metadata": {},
     "output_type": "execute_result"
    }
   ],
   "source": [
    "data_frame.loc[(data_frame['src_port'] != -1) & (data_frame['dst_port'] != -1) & (data_frame['Protocol'] == \"ICMP\")]"
   ]
  },
  {
   "cell_type": "markdown",
   "metadata": {},
   "source": [
    "# Data encoding\n",
    "## We simplify our data from complex types into simple numbers\n",
    "## Example:  \"HTTP\" -> 3\n",
    "## This operation will speed up our algorithms"
   ]
  },
  {
   "cell_type": "code",
   "execution_count": 7,
   "metadata": {},
   "outputs": [],
   "source": [
    "label_enc = preprocessing.LabelEncoder()\n",
    "\n",
    "src_encoded=label_enc.fit_transform(data_frame['Source'])\n",
    "dst_encoded=label_enc.fit_transform(data_frame['Destination'])\n",
    "\n",
    "src_port_encoded=label_enc.fit_transform(data_frame['src_port'])\n",
    "dst_port_encoded=label_enc.fit_transform(data_frame['dst_port'])\n",
    "\n",
    "len_encoded = label_enc.fit_transform(data_frame['Length'])\n",
    "\n",
    "protocol_encoded=label_enc.fit_transform(data_frame['Protocol'])\n",
    "\n",
    "features=list(zip(src_encoded,dst_encoded,src_port_encoded,dst_port_encoded,len_encoded))"
   ]
  },
  {
   "cell_type": "markdown",
   "metadata": {},
   "source": [
    "# Naive Bayes - Traditional training"
   ]
  },
  {
   "cell_type": "code",
   "execution_count": 18,
   "metadata": {},
   "outputs": [
    {
     "name": "stdout",
     "output_type": "stream",
     "text": [
      "Accuracy: 0.7618602477214302\n",
      "Balanced_accuracy: 0.6443705548581198\n",
      "Precision: 0.8160229027192167\n",
      "F-measure: 0.675992722194538\n",
      "Mean_absolute_error: 1.460855340032718\n",
      "\n",
      "\n",
      "Time: 0.03699970245361328 seconds\n"
     ]
    }
   ],
   "source": [
    "start_time = time.time()\n",
    "\n",
    "X_train, X_test, y_train, y_test = train_test_split(features, protocol_encoded, test_size=0.3)\n",
    "\n",
    "gnb = GaussianNB()\n",
    "\n",
    "gnb.fit(X_train, y_train)\n",
    "\n",
    "y_pred = gnb.predict(X_test)\n",
    "\n",
    "print(\"Accuracy:\",metrics.accuracy_score(y_test, y_pred))\n",
    "print(\"Balanced_accuracy:\",metrics.balanced_accuracy_score(y_test, y_pred))\n",
    "print(\"Precision:\",metrics.precision_score(y_test,y_pred,average='weighted',zero_division=1))\n",
    "print(\"F-measure:\",metrics.f1_score(y_test,y_pred,average='weighted',zero_division=1))\n",
    "print(\"Mean_absolute_error:\",metrics.mean_absolute_error(y_test,y_pred))\n",
    "\n",
    "print(\"\\n\\nTime: %s seconds\" % (time.time() - start_time))"
   ]
  },
  {
   "cell_type": "markdown",
   "metadata": {},
   "source": [
    "# Naive Bayes - Cross validation training"
   ]
  },
  {
   "cell_type": "code",
   "execution_count": 17,
   "metadata": {},
   "outputs": [
    {
     "name": "stdout",
     "output_type": "stream",
     "text": [
      "NAIVE BAYES CLASSIFIER\n",
      "[0.6923616  0.87377279 0.83099579 0.63744741 0.62552595 0.76367461\n",
      " 0.83730715 0.84221599 0.79242637 0.63604488]\n",
      "\n",
      "mean :  0.7531772537448977\n",
      "accuracy: 0.7531729892714396\n",
      "balanced_accuracy: 0.4862839659738398\n",
      "standard deviation: 0.09184891025833479\n",
      "precision: 0.6883585113304798\n",
      "f-measure: 0.668959762141944\n",
      "mean_absolute_error: 1.502068578641049\n",
      "\n",
      "\n",
      "Time: 0.5084240436553955 seconds\n"
     ]
    }
   ],
   "source": [
    "start_time = time.time()\n",
    "\n",
    "X = features\n",
    "y = protocol_encoded\n",
    "k_fold = KFold(n_splits=10)\n",
    "\n",
    "gaussClf = GaussianNB()\n",
    "gaussClf.fit(X, y)\n",
    "\n",
    "our_cross_valid_score = cross_val_score(gaussClf, X, y, cv=k_fold, n_jobs=1,scoring='accuracy')\n",
    "y_predict = cross_val_predict(gaussClf, X, y, cv=k_fold, n_jobs=1)\n",
    "\n",
    "print(\"NAIVE BAYES CLASSIFIER\")\n",
    "print(our_cross_valid_score)\n",
    "print(\"\\nmean : \",mean(our_cross_valid_score))\n",
    "print(\"accuracy:\",metrics.accuracy_score(y, y_predict))\n",
    "print(\"balanced_accuracy:\",metrics.balanced_accuracy_score(y, y_predict))\n",
    "print(\"standard deviation:\",np.std(our_cross_valid_score))\n",
    "print(\"precision:\",metrics.precision_score(y,y_predict,average='weighted',zero_division=1))\n",
    "print(\"f-measure:\",metrics.f1_score(y,y_predict,average='weighted',zero_division=1))\n",
    "print(\"mean_absolute_error:\",metrics.mean_absolute_error(y,y_predict))\n",
    "\n",
    "print(\"\\n\\nTime: %s seconds\" % (time.time() - start_time))"
   ]
  }
 ],
 "metadata": {
  "kernelspec": {
   "display_name": "Python 3",
   "language": "python",
   "name": "python3"
  },
  "language_info": {
   "codemirror_mode": {
    "name": "ipython",
    "version": 3
   },
   "file_extension": ".py",
   "mimetype": "text/x-python",
   "name": "python",
   "nbconvert_exporter": "python",
   "pygments_lexer": "ipython3",
   "version": "3.8.5"
  }
 },
 "nbformat": 4,
 "nbformat_minor": 2
}
